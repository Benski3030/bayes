{
 "cells": [
  {
   "cell_type": "markdown",
   "metadata": {},
   "source": [
    "## Chapter 1:"
   ]
  },
  {
   "cell_type": "code",
   "execution_count": 41,
   "metadata": {},
   "outputs": [],
   "source": [
    "# libs\n",
    "import numpy as np\n",
    "import matplotlib.pyplot as plt\n",
    "import scipy.stats as stats\n",
    "\n",
    "import pymc3 as pm\n",
    "import arviz as az"
   ]
  },
  {
   "cell_type": "code",
   "execution_count": 56,
   "metadata": {},
   "outputs": [
    {
     "data": {
      "text/html": [
       "<div>\n",
       "<style scoped>\n",
       "    .dataframe tbody tr th:only-of-type {\n",
       "        vertical-align: middle;\n",
       "    }\n",
       "\n",
       "    .dataframe tbody tr th {\n",
       "        vertical-align: top;\n",
       "    }\n",
       "\n",
       "    .dataframe thead th {\n",
       "        text-align: right;\n",
       "    }\n",
       "</style>\n",
       "<table border=\"1\" class=\"dataframe\">\n",
       "  <thead>\n",
       "    <tr style=\"text-align: right;\">\n",
       "      <th></th>\n",
       "      <th>mean</th>\n",
       "      <th>sd</th>\n",
       "      <th>hdi_3%</th>\n",
       "      <th>hdi_97%</th>\n",
       "    </tr>\n",
       "  </thead>\n",
       "  <tbody>\n",
       "    <tr>\n",
       "      <th>theta</th>\n",
       "      <td>0.72</td>\n",
       "      <td>0.05</td>\n",
       "      <td>0.64</td>\n",
       "      <td>0.8</td>\n",
       "    </tr>\n",
       "  </tbody>\n",
       "</table>\n",
       "</div>"
      ],
      "text/plain": [
       "       mean    sd  hdi_3%  hdi_97%\n",
       "theta  0.72  0.05    0.64      0.8"
      ]
     },
     "execution_count": 56,
     "metadata": {},
     "output_type": "execute_result"
    },
    {
     "data": {
      "image/png": "[encoded data removed]",
      "text/plain": [
       "<Figure size 576x144 with 3 Axes>"
      ]
     },
     "metadata": {
      "needs_background": "light"
     },
     "output_type": "display_data"
    }
   ],
   "source": [
    "# diy MCMC algorithm using metroplis hasting algorithm\n",
    "\n",
    "def post(theta, Y, alpha=1, beta=1):\n",
    "    if 0 <= theta <= 1:\n",
    "        prior = stats.beta(alpha, beta).pdf(theta) # pdf of a given point\n",
    "        likelihood = stats.bernoulli(theta).pmf(Y).prod() \n",
    "        prob = prior * likelihood\n",
    "    else:\n",
    "        prob = -np.inf\n",
    "    return prob\n",
    "\n",
    "# try it out\n",
    "# plot the beta distribution\n",
    "x = np.linspace(0, 1, 100)\n",
    "#plt.plot(x, stats.beta.pdf(x, 2, 2))\n",
    "\n",
    "# plot a given point based on theta\n",
    "theta = 0.5\n",
    "#plt.plot(theta, stats.beta.pdf(theta, 2, 2), 'ro')\n",
    "\n",
    "# create some fake data\n",
    "Y = stats.bernoulli(0.75).rvs(100)\n",
    "\n",
    "# run our algorithm\n",
    "n_iter = 10000\n",
    "can_sd = 0.05\n",
    "alpha=beta=1\n",
    "trace = {'theta': np.zeros(n_iter)}\n",
    "\n",
    "p2 = post(theta, Y, alpha, beta)\n",
    "\n",
    "for iter in range(n_iter):\n",
    "    \n",
    "    # propose a new value from a prior distribution\n",
    "    # based on the normal distro\n",
    "    theta_prop = stats.norm(theta, can_sd).rvs(1)\n",
    "    \n",
    "    # calculate the probability of the proposed value\n",
    "    p1 = post(theta_prop, Y, alpha, beta)\n",
    "    \n",
    "    # calculate the probability of the current value\n",
    "    pa = p1 /p2\n",
    "\n",
    "    if pa > stats.uniform(0, 1).rvs(1):\n",
    "        theta = theta_prop\n",
    "        p2 = p1\n",
    "    # store the value\n",
    "    trace['theta'][iter] = theta\n",
    "\n",
    "# create a plot of the trace and posterior\n",
    "_, axes = plt.subplots(1, 3, sharey=False, figsize=(8, 2))\n",
    "\n",
    "# plot the prior\n",
    "axes[0].plot(x, stats.beta.pdf(x, alpha, beta), color='0.75')\n",
    "axes[1].plot(trace['theta'], color='0.75')\n",
    "axes[2].hist(trace['theta'], color='0.75', density=True)\n",
    "\n",
    "axes[0].set_title('$\\\\theta$ prior')\n",
    "axes[1].set_title('Trace')\n",
    "axes[2].set_title('posterior of $\\\\theta$')\n",
    "\n",
    "# summarize the trace\n",
    "az.summary(trace, kind='stats', round_to=2)"
   ]
  },
  {
   "cell_type": "code",
   "execution_count": null,
   "metadata": {},
   "outputs": [],
   "source": []
  }
 ],
 "metadata": {
  "interpreter": {
   "hash": "6cb1cc810577befc6e3bf03fa43d1f0e9d17b12cf58099bfc5073cc42485cf61"
  },
  "kernelspec": {
   "display_name": "Python 3.9.7 ('bda')",
   "language": "python",
   "name": "python3"
  },
  "language_info": {
   "codemirror_mode": {
    "name": "ipython",
    "version": 3
   },
   "file_extension": ".py",
   "mimetype": "text/x-python",
   "name": "python",
   "nbconvert_exporter": "python",
   "pygments_lexer": "ipython3",
   "version": "3.9.7"
  },
  "orig_nbformat": 4
 },
 "nbformat": 4,
 "nbformat_minor": 2
}
